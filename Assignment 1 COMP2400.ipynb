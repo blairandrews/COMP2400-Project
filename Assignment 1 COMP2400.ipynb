{
 "cells": [
  {
   "cell_type": "markdown",
   "id": "d0d37a38",
   "metadata": {},
   "source": [
    "# Assignment 1 - Intelligent Machines, Ethics and Law (COMP2400/6400)"
   ]
  },
  {
   "cell_type": "markdown",
   "id": "a8d3cfcd",
   "metadata": {},
   "source": [
    "### Name:\n",
    "\n",
    "### Student Id:"
   ]
  },
  {
   "attachments": {},
   "cell_type": "markdown",
   "id": "80a15388",
   "metadata": {},
   "source": [
    "# Facial Recognition\n",
    "\n",
    "In this assignment, you will implement a **facial recognition system** using Python and explore its social implications. This assessment is designed to familiarize you with the process of training a facial recognition model, implementing it using a Python program; and critically examine the impact of facial recognition systems on society. This assignment will be marked out of 100, and will count towards **25%** of the total unit assessment."
   ]
  },
  {
   "cell_type": "markdown",
   "id": "117851ae",
   "metadata": {},
   "source": [
    "## Olivetti Faces Dataset Description\n",
    "\n",
    "The Olivetti Faces dataset is a popular dataset for testing and evaluating face recognition algorithms. It was created by AT&T Laboratories Cambridge and contains a set of grayscale images of faces, captured under different lighting conditions, facial expressions, and poses.\n",
    "\n",
    "The dataset contains a total of **400 images**, each of size **64 x 64 pixels**. There are 10 different images for each of 40 distinct individuals, with each individual photographed in different sessions. The images were taken with a Canon camera, under controlled conditions that included a uniform background and controlled lighting.\n",
    "\n",
    "The Olivetti Faces dataset is often used for tasks such as face recognition, face detection, and facial expression analysis. The dataset is popular because it is relatively small, making it easy to work with, and because it contains images that capture a wide range of facial variations.\n",
    "\n",
    "The dataset is available in the scikit-learn Python library, which makes it easy to load and use for machine learning tasks. In scikit-learn, the Olivetti Faces dataset is provided as a dictionary with two keys: data and images. The data key contains a 2D array of the flattened image data, while the images key contains a 3D array of the original image data.\n"
   ]
  },
  {
   "attachments": {},
   "cell_type": "markdown",
   "id": "25922231",
   "metadata": {},
   "source": [
    "## Task 0 - (0 Marks)\n",
    "\n",
    "Load the dataset using Python. How many images are in the dataset? \t\t\t"
   ]
  },
  {
   "cell_type": "code",
   "execution_count": null,
   "id": "32cd0f0f",
   "metadata": {},
   "outputs": [],
   "source": [
    "import numpy as np\n",
    "from sklearn import datasets\n",
    "from sklearn.decomposition import PCA\n",
    "\n",
    "\n",
    "# Load the dataset\n",
    "faces = datasets.fetch_olivetti_faces()\n",
    "data = faces.data       # Input data or input features\n",
    "target = faces.target   # Label or Class or Variable to be predicted\n",
    "\n",
    "# Apply PCA to reduce the dimensionality of the data\n",
    "pca = PCA(n_components=100, whiten=True)\n",
    "X = pca.fit_transform(data)              ## X Represents the data and you will use for model training\n",
    "\n",
    "# Size of the datset  \n",
    "X.shape     # (Number of images, input feature)"
   ]
  },
  {
   "attachments": {},
   "cell_type": "markdown",
   "id": "ca72c3f6",
   "metadata": {},
   "source": [
    "## Task 1: Data Visualisation - (10 marks)"
   ]
  },
  {
   "attachments": {},
   "cell_type": "markdown",
   "id": "bb57b8fc",
   "metadata": {},
   "source": [
    "Visualize some (at least five) of the images in the dataset. Are there any noticeable differences between the images of different individuals? (Hint: You can use imshow() method to visualise images)"
   ]
  },
  {
   "cell_type": "code",
   "execution_count": null,
   "id": "79628c28",
   "metadata": {},
   "outputs": [],
   "source": [
    "# your code will go here"
   ]
  },
  {
   "attachments": {},
   "cell_type": "markdown",
   "id": "efcd7883",
   "metadata": {},
   "source": [
    "## Task 2: Training a Traditional Machine Learning Model\t- (25 Marks)"
   ]
  },
  {
   "attachments": {},
   "cell_type": "markdown",
   "id": "3344408f",
   "metadata": {},
   "source": [
    "Train a machine learning model for facial recognition with a machine learning algorithm discussed during the lectures **(Week 2 to Week 4)** (or any other appropriate algorithm not covered in the lectures). Which machine learning algorithm did you choose, and why? What is the accuracy of the model on the test set? **(Use 80% of the data for Training and 20% for testing)**"
   ]
  },
  {
   "cell_type": "code",
   "execution_count": null,
   "id": "fa2b08f8",
   "metadata": {},
   "outputs": [],
   "source": [
    "# your code will go here"
   ]
  },
  {
   "attachments": {},
   "cell_type": "markdown",
   "id": "f427f74d",
   "metadata": {},
   "source": [
    "## Task 3: Training a Neural Network-based Model - (25 Marks)"
   ]
  },
  {
   "attachments": {},
   "cell_type": "markdown",
   "id": "f82cd09f",
   "metadata": {},
   "source": [
    "Train an artificial neural network (Multi-Layered Perceptron Classifier (MLP)) model for facial recognition. What is the accuracy of the model on the test set? **(Use 80% of the data for Training and 20% for testing)**"
   ]
  },
  {
   "cell_type": "code",
   "execution_count": null,
   "id": "83dce0f5",
   "metadata": {},
   "outputs": [],
   "source": [
    "# your code will go here"
   ]
  },
  {
   "attachments": {},
   "cell_type": "markdown",
   "id": "9c7deb1c",
   "metadata": {},
   "source": [
    "## Task 4: Comparison - (20 Marks)"
   ]
  },
  {
   "attachments": {},
   "cell_type": "markdown",
   "id": "dfbf9ec7",
   "metadata": {},
   "source": [
    "Compare the performance of the traditional machine learning model and the artificial neural network (MLP). Which model performed better, and why? Did the use of MLP instead of traditional machine learning algorithms involve any tradeoff(s)? If so, briefly describe them. **Make sure you provide the visualisation of results for the purpose of comparison.**"
   ]
  },
  {
   "cell_type": "code",
   "execution_count": null,
   "id": "532fd8ce",
   "metadata": {},
   "outputs": [],
   "source": [
    "# your code will go here"
   ]
  },
  {
   "cell_type": "markdown",
   "id": "c9a7c22d",
   "metadata": {},
   "source": [
    "***Your analysis and dicussion will go here*** "
   ]
  },
  {
   "attachments": {},
   "cell_type": "markdown",
   "id": "06560576",
   "metadata": {},
   "source": [
    "## Task 5: Social Implications - (20 Marks)"
   ]
  },
  {
   "attachments": {},
   "cell_type": "markdown",
   "id": "3407fa43",
   "metadata": {},
   "source": [
    "Finally, you will research and discuss two specific social implications of facial recognition technology:\n",
    "\n",
    "1. **Bias and discrimination:** How can facial recognition technology lead to bias and discrimination? What steps can we take to address these issues?\n",
    "2. **Law enforcement:** How is facial recognition technology being used by law enforcement agencies? What are the benefits and risks of using this technology in law enforcement?"
   ]
  },
  {
   "cell_type": "markdown",
   "id": "3270fda9",
   "metadata": {},
   "source": [
    "***Discussion for Part 1*** "
   ]
  },
  {
   "cell_type": "markdown",
   "id": "eedd318f",
   "metadata": {},
   "source": [
    "***Discussion for Part 2***"
   ]
  },
  {
   "cell_type": "code",
   "execution_count": null,
   "id": "5ea8c89b",
   "metadata": {},
   "outputs": [],
   "source": []
  }
 ],
 "metadata": {
  "kernelspec": {
   "display_name": "Python 3 (ipykernel)",
   "language": "python",
   "name": "python3"
  },
  "language_info": {
   "codemirror_mode": {
    "name": "ipython",
    "version": 3
   },
   "file_extension": ".py",
   "mimetype": "text/x-python",
   "name": "python",
   "nbconvert_exporter": "python",
   "pygments_lexer": "ipython3",
   "version": "3.9.13"
  }
 },
 "nbformat": 4,
 "nbformat_minor": 5
}
